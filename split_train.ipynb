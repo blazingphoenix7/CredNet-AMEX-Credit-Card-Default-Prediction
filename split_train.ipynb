{
 "cells": [
  {
   "cell_type": "code",
   "execution_count": null,
   "metadata": {},
   "outputs": [],
   "source": [
    "#Importing necessary libraries.\n",
    "\n",
    "import numpy as np\n",
    "import pandas as pd\n",
    "import math\n",
    "import sys\n",
    "import os\n",
    "import warnings\n",
    "\n",
    "pd.set_option('display.max_columns', None)\n",
    "warnings.filterwarnings('ignore') "
   ]
  },
  {
   "cell_type": "code",
   "execution_count": null,
   "metadata": {},
   "outputs": [],
   "source": [
    "train_raw = pd.read_csv(\"...input/train_data.csv\")\n",
    "labels = pd.read_csv('...input/train_labels.csv')\n",
    "\n",
    "train_raw = train_raw.merge(labels, left_on='customer_ID', right_on='customer_ID') "
   ]
  },
  {
   "cell_type": "code",
   "execution_count": null,
   "metadata": {},
   "outputs": [],
   "source": [
    "columns = []\n",
    "\n",
    "for col in train_raw.columns:\n",
    "    columns.append(col)\n",
    "\n",
    "print(columns) "
   ]
  },
  {
   "cell_type": "code",
   "execution_count": null,
   "metadata": {},
   "outputs": [],
   "source": [
    "def split_dataset(df, output_prefix):\n",
    "    n_files = 20 \n",
    "    chunksize = 543145 # set this to a value that fits your memory \n",
    "    for i in range(math.ceil(df.shape[0]/chunksize)):\n",
    "        start = i * chunksize\n",
    "        end = (i + 1) * chunksize\n",
    "        if i == n_files - 1:\n",
    "            end = df.shape[0]\n",
    "        df.iloc[start:end,:].to_csv(f\"{output_prefix}_{i}.csv\", index=False) \n"
   ]
  },
  {
   "cell_type": "code",
   "execution_count": null,
   "metadata": {},
   "outputs": [],
   "source": [
    "split_dataset(train_raw, 'output') "
   ]
  },
  {
   "cell_type": "code",
   "execution_count": null,
   "metadata": {},
   "outputs": [],
   "source": []
  }
 ],
 "metadata": {
  "kernelspec": {
   "display_name": "env_tf",
   "language": "python",
   "name": "python3"
  },
  "language_info": {
   "codemirror_mode": {
    "name": "ipython",
    "version": 3
   },
   "file_extension": ".py",
   "mimetype": "text/x-python",
   "name": "python",
   "nbconvert_exporter": "python",
   "pygments_lexer": "ipython3",
   "version": "3.9.12"
  },
  "orig_nbformat": 4,
  "vscode": {
   "interpreter": {
    "hash": "aef04443c4a0b81d2725fdc26acb1e8db2d914feff87a6a1c6219a0def239d7e"
   }
  }
 },
 "nbformat": 4,
 "nbformat_minor": 2
}
