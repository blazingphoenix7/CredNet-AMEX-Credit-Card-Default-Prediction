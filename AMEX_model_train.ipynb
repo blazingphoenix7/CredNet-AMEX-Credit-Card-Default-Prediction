{
 "cells": [
  {
   "cell_type": "code",
   "execution_count": 1,
   "metadata": {},
   "outputs": [
    {
     "name": "stderr",
     "output_type": "stream",
     "text": [
      "/Users/aaryanmehta/miniforge3/envs/env_tf/lib/python3.9/site-packages/requests/__init__.py:102: RequestsDependencyWarning: urllib3 (1.26.9) or chardet (5.0.0)/charset_normalizer (2.0.12) doesn't match a supported version!\n",
      "  warnings.warn(\"urllib3 ({}) or chardet ({})/charset_normalizer ({}) doesn't match a supported \"\n"
     ]
    }
   ],
   "source": [
    "# Importing necessary libraries\n",
    "\n",
    "import pandas as pd\n",
    "import numpy as np\n",
    "import tensorflow as tf\n",
    "from tensorflow.keras.models import Sequential, load_model\n",
    "from tensorflow.keras.layers import Dense, GRU, BatchNormalization, Dropout \n",
    "from keras import backend as K\n",
    "from sklearn.model_selection import train_test_split\n",
    "from sklearn.metrics import accuracy_score \n",
    "from sklearn.preprocessing import StandardScaler \n",
    "import matplotlib.pyplot as plt, gc\n",
    "import seaborn as sns\n",
    "from keras.callbacks import ModelCheckpoint, ReduceLROnPlateau \n",
    "import random \n",
    "from sklearn.metrics import confusion_matrix, classification_report \n",
    "\n",
    "pd.set_option('display.max_columns', None) "
   ]
  },
  {
   "cell_type": "code",
   "execution_count": 2,
   "metadata": {},
   "outputs": [],
   "source": [
    "# Preprocessing function \n",
    "\n",
    "def feature_engineer(file_path, PAD_CUSTOMER_TO_13_ROWS = True):\n",
    "\n",
    "    train = pd.read_csv(file_path)\n",
    "        \n",
    "    # REDUCE STRING COLUMNS \n",
    "    # from 64 bytes to 8 bytes, and 10 bytes to 3 bytes respectively\n",
    "    train['customer_ID'] = train['customer_ID'].str[-16:].apply(lambda x: int(x, 16)).astype('int64')\n",
    "    train.S_2 = pd.to_datetime( train.S_2 )\n",
    "    train['year'] = (train.S_2.dt.year-2000).astype('int8')\n",
    "    train['month'] = (train.S_2.dt.month).astype('int8')\n",
    "    train['day'] = (train.S_2.dt.day).astype('int8')\n",
    "    del train['S_2']\n",
    "        \n",
    "        \n",
    "    # LABEL ENCODE CAT COLUMNS (and reduce to 1 byte)\n",
    "    # with 0: padding, 1: nan, 2,3,4,etc: values\n",
    "    d_63_map = {'CL':2, 'CO':3, 'CR':4, 'XL':5, 'XM':6, 'XZ':7}\n",
    "    train['D_63'] = train.D_63.map(d_63_map).fillna(1).astype('int8')\n",
    "\n",
    "    d_64_map = {'-1':2,'O':3, 'R':4, 'U':5}\n",
    "    train['D_64'] = train.D_64.map(d_64_map).fillna(1).astype('int8')\n",
    "    \n",
    "    CATS = ['B_30', 'B_38', 'D_114', 'D_116', 'D_117', 'D_120', 'D_126', 'D_66', 'D_68']\n",
    "    OFFSETS = [2,1,2,2,3,2,3,2,2] #2 minus minimal value in full train csv\n",
    "    # then 0 will be padding, 1 will be NAN, 2,3,4,etc will be values\n",
    "    for c,s in zip(CATS,OFFSETS):\n",
    "        train[c] = train[c] + s\n",
    "        train[c] = train[c].fillna(1).astype('int8')\n",
    "    CATS += ['D_63','D_64']\n",
    "            \n",
    "\n",
    "    # PAD ROWS SO EACH CUSTOMER HAS 13 ROWS\n",
    "    if PAD_CUSTOMER_TO_13_ROWS:\n",
    "        tmp = train[['customer_ID']].groupby('customer_ID').customer_ID.agg('count')\n",
    "        more = np.array([],dtype='int64') \n",
    "        for j in range(1,13):\n",
    "            i = tmp.loc[tmp==j].index.values\n",
    "            more = np.concatenate([more,np.repeat(i,13-j)])\n",
    "\n",
    "        df = train.iloc[:len(more)].copy().fillna(0)\n",
    "        df = df * 0 - 1 #pad numerical columns with -1\n",
    "        df[CATS] = (df[CATS] * 0).astype('int8') #pad categorical columns with 0\n",
    "        df = pd.DataFrame({'customer_ID':more})\n",
    "        train = pd.concat([train,df],axis=0,ignore_index=True)\n",
    "\n",
    "    # FILL NAN\n",
    "    cols_with_nulls = [col for col in train.columns if col != 'target' and train[col].isnull().any()]\n",
    "    train[cols_with_nulls] = train[cols_with_nulls].fillna(-0.5)\n",
    "    train['target'] = train['target'].fillna(1)\n",
    "\n",
    "    \n",
    "    # SORT BY CUSTOMER THEN DATE\n",
    "    train = train.sort_values(['customer_ID','year','month','day']).reset_index(drop=True)\n",
    "    train = train.drop(['year','month','day'],axis=1)\n",
    "    \n",
    "    # REARRANGE COLUMNS WITH 11 CATS FIRST\n",
    "    COLS = list(train.columns[1:])\n",
    "    COLS = ['customer_ID'] + CATS + [c for c in COLS if c not in CATS]\n",
    "    train = train[COLS]\n",
    "\n",
    "    X = train.drop(columns=['target'])\n",
    "    y = train[['target']]\n",
    "    \n",
    "    return X, y "
   ]
  },
  {
   "cell_type": "code",
   "execution_count": 3,
   "metadata": {},
   "outputs": [
    {
     "name": "stdout",
     "output_type": "stream",
     "text": [
      "Processing output_0.csv\n",
      "Processing output_1.csv\n",
      "Processing output_2.csv\n",
      "Processing output_3.csv\n",
      "Processing output_4.csv\n",
      "Processing output_5.csv\n",
      "Processing output_6.csv\n",
      "Processing output_7.csv\n",
      "Processing output_8.csv\n",
      "Processing output_9.csv\n",
      "Processing output_10.csv\n",
      "Processing output_11.csv\n",
      "Processing output_12.csv\n",
      "Processing output_13.csv\n",
      "Processing output_14.csv\n",
      "Processing output_15.csv\n",
      "Processing output_16.csv\n",
      "Processing output_17.csv\n",
      "Processing output_18.csv\n",
      "Processing output_19.csv\n",
      "Processing output_20.csv\n",
      "Processing output_21.csv\n"
     ]
    }
   ],
   "source": [
    "# Load the files sequentially to avoid memory errors\n",
    "\n",
    "directory_path = r\".../input\" #PATH OF THE DIRECTORY WHERE THE FILES ARE STORED AFTER RUNNING SPLIT_TRAIN.IPYNB\n",
    "\n",
    "X_list = []\n",
    "y_list = []\n",
    "number_of_files = 22 #CHANGE THIS VARIABLE TO THE NO. OF FILES CREATED AFTER RUNNING SPLIT_TRAIN.IPYNB\n",
    "\n",
    "for i in range(number_of_files):\n",
    "    file = 'output_' + str(i) + '.csv'\n",
    "    File_Path = directory_path + '/' + file\n",
    "    print(\"Processing\", file)\n",
    "    X, y = feature_engineer(File_Path)\n",
    "    X_list.append(X)\n",
    "    y_list.append(y) "
   ]
  },
  {
   "cell_type": "code",
   "execution_count": 4,
   "metadata": {},
   "outputs": [],
   "source": [
    "# Concatenate the data from all the files\n",
    "\n",
    "X_final = pd.concat(X_list)\n",
    "y_final = pd.concat(y_list) "
   ]
  },
  {
   "cell_type": "code",
   "execution_count": 5,
   "metadata": {},
   "outputs": [
    {
     "name": "stdout",
     "output_type": "stream",
     "text": [
      "target\n",
      "0.0       4507527\n",
      "1.0       1964055\n",
      "dtype: int64\n"
     ]
    }
   ],
   "source": [
    "print(y_final.value_counts()) "
   ]
  },
  {
   "cell_type": "code",
   "execution_count": 6,
   "metadata": {},
   "outputs": [],
   "source": [
    "# Feature Engineering Function \n",
    "\n",
    "def feature_engineering(no_of_files, X_final):\n",
    "\n",
    "    imp_features_across_files = []\n",
    "    for i in range(no_of_files):\n",
    "        file = 'output_' + str(i) + '.csv'\n",
    "        File_Path = directory_path + '/' + file\n",
    "        \n",
    "        A = pd.read_csv(File_Path)\n",
    "        corr = A.corr()['target'] \n",
    "\n",
    "        # Sort the features by their correlation with the target variable\n",
    "        corr = corr.sort_values(ascending=False)\n",
    "        imp_features_across_files.extend(corr.index[1:31])\n",
    "\n",
    "    # Remove duplicate entries \n",
    "    imp_features_across_files = list(set(imp_features_across_files))\n",
    "\n",
    "    X_final = X_final[['customer_ID'] + imp_features_across_files[:100]]\n",
    "    \n",
    "    return X_final "
   ]
  },
  {
   "cell_type": "code",
   "execution_count": 7,
   "metadata": {},
   "outputs": [],
   "source": [
    "X_final = feature_engineering(number_of_files, X_final) "
   ]
  },
  {
   "cell_type": "code",
   "execution_count": 8,
   "metadata": {},
   "outputs": [],
   "source": [
    "# Split the data into training and validation sets\n",
    "\n",
    "X_train, X_test, y_train, y_test = train_test_split(X_final, y_final, shuffle=False, test_size=0.2) "
   ]
  },
  {
   "cell_type": "code",
   "execution_count": 9,
   "metadata": {},
   "outputs": [],
   "source": [
    "# Scaling the Data\n",
    "\n",
    "scaler = StandardScaler()\n",
    "X_train_scaled = scaler.fit_transform(X_train)\n",
    "X_test_scaled = scaler.transform(X_test) "
   ]
  },
  {
   "cell_type": "code",
   "execution_count": 10,
   "metadata": {},
   "outputs": [
    {
     "name": "stdout",
     "output_type": "stream",
     "text": [
      "Metal device set to: Apple M1\n",
      "\n",
      "systemMemory: 8.00 GB\n",
      "maxCacheSize: 2.67 GB\n",
      "\n"
     ]
    },
    {
     "name": "stderr",
     "output_type": "stream",
     "text": [
      "2023-05-01 15:59:54.709131: I tensorflow/core/common_runtime/pluggable_device/pluggable_device_factory.cc:305] Could not identify NUMA node of platform GPU ID 0, defaulting to 0. Your kernel may not have been built with NUMA support.\n",
      "2023-05-01 15:59:54.711108: I tensorflow/core/common_runtime/pluggable_device/pluggable_device_factory.cc:271] Created TensorFlow device (/job:localhost/replica:0/task:0/device:GPU:0 with 0 MB memory) -> physical PluggableDevice (device: 0, name: METAL, pci bus id: <undefined>)\n"
     ]
    },
    {
     "name": "stdout",
     "output_type": "stream",
     "text": [
      "Model: \"sequential\"\n",
      "_________________________________________________________________\n",
      " Layer (type)                Output Shape              Param #   \n",
      "=================================================================\n",
      " gru (GRU)                   (None, 33, 64)            12864     \n",
      "                                                                 \n",
      " dropout (Dropout)           (None, 33, 64)            0         \n",
      "                                                                 \n",
      " batch_normalization (BatchN  (None, 33, 64)           256       \n",
      " ormalization)                                                   \n",
      "                                                                 \n",
      " gru_1 (GRU)                 (None, 32)                9408      \n",
      "                                                                 \n",
      " dropout_1 (Dropout)         (None, 32)                0         \n",
      "                                                                 \n",
      " batch_normalization_1 (Batc  (None, 32)               128       \n",
      " hNormalization)                                                 \n",
      "                                                                 \n",
      " dense (Dense)               (None, 32)                1056      \n",
      "                                                                 \n",
      " dropout_2 (Dropout)         (None, 32)                0         \n",
      "                                                                 \n",
      " batch_normalization_2 (Batc  (None, 32)               128       \n",
      " hNormalization)                                                 \n",
      "                                                                 \n",
      " dense_1 (Dense)             (None, 1)                 33        \n",
      "                                                                 \n",
      "=================================================================\n",
      "Total params: 23,873\n",
      "Trainable params: 23,617\n",
      "Non-trainable params: 256\n",
      "_________________________________________________________________\n"
     ]
    }
   ],
   "source": [
    "# Creating the GRU Model  \n",
    "\n",
    "model = Sequential()\n",
    "\n",
    "model.add(GRU(64, input_shape=(X_train_scaled.shape[1], 1), activation='tanh', return_sequences=True))\n",
    "model.add(Dropout(0.1))\n",
    "model.add(BatchNormalization())\n",
    "\n",
    "model.add(GRU(32, activation='tanh', return_sequences=False))\n",
    "model.add(Dropout(0.2))\n",
    "model.add(BatchNormalization())\n",
    "\n",
    "model.add(Dense(32, activation='sigmoid'))\n",
    "model.add(Dropout(0.1))\n",
    "model.add(BatchNormalization())\n",
    "\n",
    "model.add(Dense(1, activation='sigmoid')) \n",
    "\n",
    "model.summary() "
   ]
  },
  {
   "cell_type": "code",
   "execution_count": 11,
   "metadata": {},
   "outputs": [],
   "source": [
    "# Create the ModelCheckpoint callback to save the best performing model\n",
    "\n",
    "filepath = \"../input/checkpoint.hd5\"\n",
    "checkpoint = ModelCheckpoint(filepath, monitor='val_loss', verbose=1, save_best_only=True, mode='min') \n"
   ]
  },
  {
   "cell_type": "code",
   "execution_count": null,
   "metadata": {},
   "outputs": [],
   "source": [
    "# Learning rate callback\n",
    "\n",
    "reduce_lr = ReduceLROnPlateau(monitor='val_loss', factor=0.2,\n",
    "                              patience=2) "
   ]
  },
  {
   "cell_type": "code",
   "execution_count": 12,
   "metadata": {},
   "outputs": [],
   "source": [
    "# Creating a custom loss function that can deal with unbalanced dataset\n",
    "\n",
    "def focal_loss(gamma, alpha):\n",
    "    def focal_loss_fixed(y_true, y_pred):\n",
    "        pt_1 = tf.where(tf.equal(y_true, 1), y_pred, tf.ones_like(y_pred))\n",
    "        pt_0 = tf.where(tf.equal(y_true, 0), y_pred, tf.zeros_like(y_pred))\n",
    "        return -K.mean(alpha * K.pow(1. - pt_1, gamma) * K.log(K.epsilon()+pt_1)) \\\n",
    "               -K.mean((1-alpha) * K.pow(pt_0, gamma) * K.log(1. - pt_0 + K.epsilon()))\n",
    "    return focal_loss_fixed "
   ]
  },
  {
   "cell_type": "code",
   "execution_count": 13,
   "metadata": {},
   "outputs": [],
   "source": [
    "# Initialising the optimizer and loss function\n",
    "\n",
    "opt = tf.keras.optimizers.Adam()\n",
    "\n",
    "model.compile(loss=focal_loss(gamma=2, alpha=0.303), optimizer=opt, metrics=['accuracy']) "
   ]
  },
  {
   "cell_type": "code",
   "execution_count": 14,
   "metadata": {},
   "outputs": [
    {
     "data": {
      "text/plain": [
       "28792"
      ]
     },
     "execution_count": 14,
     "metadata": {},
     "output_type": "execute_result"
    }
   ],
   "source": [
    "gc.collect() "
   ]
  },
  {
   "cell_type": "code",
   "execution_count": 15,
   "metadata": {},
   "outputs": [
    {
     "name": "stdout",
     "output_type": "stream",
     "text": [
      "Epoch 1/5\n"
     ]
    },
    {
     "name": "stdout",
     "output_type": "stream",
     "text": [
      "32358/32358 [==============================] - ETA: 0s - loss: 0.0358 - accuracy: 0.8276"
     ]
    },
    {
     "name": "stdout",
     "output_type": "stream",
     "text": [
      "\n",
      "Epoch 1: val_loss improved from inf to 0.03486, saving model to credNet_(no_generator).hd5\n"
     ]
    },
    {
     "name": "stdout",
     "output_type": "stream",
     "text": [
      "INFO:tensorflow:Assets written to: credNet_(no_generator).hd5/assets\n"
     ]
    },
    {
     "name": "stdout",
     "output_type": "stream",
     "text": [
      "32358/32358 [==============================] - 1581s 49ms/step - loss: 0.0358 - accuracy: 0.8276 - val_loss: 0.0349 - val_accuracy: 0.8188\n",
      "Epoch 2/5\n",
      "32358/32358 [==============================] - ETA: 0s - loss: 0.0344 - accuracy: 0.8345\n",
      "Epoch 2: val_loss improved from 0.03486 to 0.03335, saving model to credNet_(no_generator).hd5\n"
     ]
    },
    {
     "name": "stdout",
     "output_type": "stream",
     "text": [
      "INFO:tensorflow:Assets written to: credNet_(no_generator).hd5/assets\n"
     ]
    },
    {
     "name": "stdout",
     "output_type": "stream",
     "text": [
      "32358/32358 [==============================] - 1595s 49ms/step - loss: 0.0344 - accuracy: 0.8345 - val_loss: 0.0334 - val_accuracy: 0.8469\n",
      "Epoch 3/5\n",
      "32358/32358 [==============================] - ETA: 0s - loss: 0.0339 - accuracy: 0.8381\n",
      "Epoch 3: val_loss improved from 0.03335 to 0.03315, saving model to credNet_(no_generator).hd5\n"
     ]
    },
    {
     "name": "stdout",
     "output_type": "stream",
     "text": [
      "INFO:tensorflow:Assets written to: credNet_(no_generator).hd5/assets\n"
     ]
    },
    {
     "name": "stdout",
     "output_type": "stream",
     "text": [
      "32358/32358 [==============================] - 1272s 39ms/step - loss: 0.0339 - accuracy: 0.8381 - val_loss: 0.0331 - val_accuracy: 0.8356\n",
      "Epoch 4/5\n",
      "32358/32358 [==============================] - ETA: 0s - loss: 0.0340 - accuracy: 0.8379\n",
      "Epoch 4: val_loss improved from 0.03315 to 0.03290, saving model to credNet_(no_generator).hd5\n"
     ]
    },
    {
     "name": "stdout",
     "output_type": "stream",
     "text": [
      "INFO:tensorflow:Assets written to: credNet_(no_generator).hd5/assets\n"
     ]
    },
    {
     "name": "stdout",
     "output_type": "stream",
     "text": [
      "32358/32358 [==============================] - 1622s 50ms/step - loss: 0.0340 - accuracy: 0.8379 - val_loss: 0.0329 - val_accuracy: 0.8424\n",
      "Epoch 5/5\n",
      "32358/32358 [==============================] - ETA: 0s - loss: 0.0339 - accuracy: 0.8377\n",
      "Epoch 5: val_loss did not improve from 0.03290\n",
      "32358/32358 [==============================] - 2068s 64ms/step - loss: 0.0339 - accuracy: 0.8377 - val_loss: 0.0331 - val_accuracy: 0.8381\n"
     ]
    }
   ],
   "source": [
    "history = model.fit(X_train_scaled.reshape(X_train_scaled.shape[0], X_train_scaled.shape[1], 1),\n",
    "                    y_train,\n",
    "                    batch_size=32,\n",
    "                    epochs=5,\n",
    "                    validation_split=0.2,                        \n",
    "                    callbacks =[checkpoint],\n",
    "                    verbose=1) "
   ]
  },
  {
   "cell_type": "code",
   "execution_count": 16,
   "metadata": {},
   "outputs": [
    {
     "data": {
      "text/plain": [
       "369170"
      ]
     },
     "execution_count": 16,
     "metadata": {},
     "output_type": "execute_result"
    }
   ],
   "source": [
    "gc.collect() "
   ]
  },
  {
   "cell_type": "code",
   "execution_count": 17,
   "metadata": {},
   "outputs": [
    {
     "name": "stderr",
     "output_type": "stream",
     "text": [
      "WARNING:absl:Found untraced functions such as gru_cell_layer_call_fn, gru_cell_layer_call_and_return_conditional_losses, gru_cell_1_layer_call_fn, gru_cell_1_layer_call_and_return_conditional_losses while saving (showing 4 of 4). These functions will not be directly callable after loading.\n"
     ]
    },
    {
     "name": "stdout",
     "output_type": "stream",
     "text": [
      "INFO:tensorflow:Assets written to: /Users/aaryanmehta/Desktop/BE Project/notebooks/credNet_(no_generator).hd5/assets\n"
     ]
    },
    {
     "name": "stderr",
     "output_type": "stream",
     "text": [
      "INFO:tensorflow:Assets written to: /Users/aaryanmehta/Desktop/BE Project/notebooks/credNet_(no_generator).hd5/assets\n",
      "WARNING:absl:<keras.layers.recurrent.GRUCell object at 0x15bdfad30> has the same name 'GRUCell' as a built-in Keras object. Consider renaming <class 'keras.layers.recurrent.GRUCell'> to avoid naming conflicts when loading with `tf.keras.models.load_model`. If renaming is not possible, pass the object in the `custom_objects` parameter of the load function.\n",
      "WARNING:absl:<keras.layers.recurrent.GRUCell object at 0x1653f9f40> has the same name 'GRUCell' as a built-in Keras object. Consider renaming <class 'keras.layers.recurrent.GRUCell'> to avoid naming conflicts when loading with `tf.keras.models.load_model`. If renaming is not possible, pass the object in the `custom_objects` parameter of the load function.\n"
     ]
    }
   ],
   "source": [
    "model.save('.../input/CredNet.hd5') "
   ]
  },
  {
   "cell_type": "code",
   "execution_count": null,
   "metadata": {},
   "outputs": [],
   "source": []
  },
  {
   "cell_type": "code",
   "execution_count": 18,
   "metadata": {},
   "outputs": [
    {
     "data": {
      "text/html": [
       "<div>\n",
       "<style scoped>\n",
       "    .dataframe tbody tr th:only-of-type {\n",
       "        vertical-align: middle;\n",
       "    }\n",
       "\n",
       "    .dataframe tbody tr th {\n",
       "        vertical-align: top;\n",
       "    }\n",
       "\n",
       "    .dataframe thead th {\n",
       "        text-align: right;\n",
       "    }\n",
       "</style>\n",
       "<table border=\"1\" class=\"dataframe\">\n",
       "  <thead>\n",
       "    <tr style=\"text-align: right;\">\n",
       "      <th></th>\n",
       "      <th>loss</th>\n",
       "      <th>accuracy</th>\n",
       "      <th>val_loss</th>\n",
       "      <th>val_accuracy</th>\n",
       "      <th>epoch</th>\n",
       "    </tr>\n",
       "  </thead>\n",
       "  <tbody>\n",
       "    <tr>\n",
       "      <th>0</th>\n",
       "      <td>0.035773</td>\n",
       "      <td>0.827640</td>\n",
       "      <td>0.034864</td>\n",
       "      <td>0.818818</td>\n",
       "      <td>0</td>\n",
       "    </tr>\n",
       "    <tr>\n",
       "      <th>1</th>\n",
       "      <td>0.034427</td>\n",
       "      <td>0.834521</td>\n",
       "      <td>0.033352</td>\n",
       "      <td>0.846911</td>\n",
       "      <td>1</td>\n",
       "    </tr>\n",
       "    <tr>\n",
       "      <th>2</th>\n",
       "      <td>0.033905</td>\n",
       "      <td>0.838147</td>\n",
       "      <td>0.033146</td>\n",
       "      <td>0.835557</td>\n",
       "      <td>2</td>\n",
       "    </tr>\n",
       "    <tr>\n",
       "      <th>3</th>\n",
       "      <td>0.033968</td>\n",
       "      <td>0.837919</td>\n",
       "      <td>0.032900</td>\n",
       "      <td>0.842439</td>\n",
       "      <td>3</td>\n",
       "    </tr>\n",
       "    <tr>\n",
       "      <th>4</th>\n",
       "      <td>0.033869</td>\n",
       "      <td>0.837707</td>\n",
       "      <td>0.033059</td>\n",
       "      <td>0.838054</td>\n",
       "      <td>4</td>\n",
       "    </tr>\n",
       "  </tbody>\n",
       "</table>\n",
       "</div>"
      ],
      "text/plain": [
       "       loss  accuracy  val_loss  val_accuracy  epoch\n",
       "0  0.035773  0.827640  0.034864      0.818818      0\n",
       "1  0.034427  0.834521  0.033352      0.846911      1\n",
       "2  0.033905  0.838147  0.033146      0.835557      2\n",
       "3  0.033968  0.837919  0.032900      0.842439      3\n",
       "4  0.033869  0.837707  0.033059      0.838054      4"
      ]
     },
     "execution_count": 18,
     "metadata": {},
     "output_type": "execute_result"
    }
   ],
   "source": [
    "# Performance per epoch \n",
    "\n",
    "hist = pd.DataFrame(history.history)\n",
    "hist['epoch'] = history.epoch \n",
    "hist "
   ]
  },
  {
   "cell_type": "code",
   "execution_count": 19,
   "metadata": {},
   "outputs": [],
   "source": [
    "# Visualizing the performance per epoch\n",
    "\n",
    "accuracy = history.history['accuracy']\n",
    "loss = history.history['loss']\n",
    "val_accuracy = history.history['val_accuracy']\n",
    "val_loss = history.history['val_loss'] "
   ]
  },
  {
   "cell_type": "code",
   "execution_count": 20,
   "metadata": {},
   "outputs": [
    {
     "data": {
      "text/plain": [
       "<matplotlib.legend.Legend at 0x535ae5ac0>"
      ]
     },
     "execution_count": 20,
     "metadata": {},
     "output_type": "execute_result"
    },
    {
     "data": {
      "image/png": "[encoded data removed]",
      "text/plain": [
       "<Figure size 432x288 with 1 Axes>"
      ]
     },
     "metadata": {
      "needs_background": "light"
     },
     "output_type": "display_data"
    }
   ],
   "source": [
    "# Visualizing the training and validation loss per epoch\n",
    "\n",
    "epochs = range(len(accuracy))\n",
    "\n",
    "plt.plot(epochs, loss, 'blue', label='Training loss')\n",
    "plt.plot(epochs, val_loss, 'red', label='Validation loss')\n",
    "plt.legend()"
   ]
  },
  {
   "cell_type": "code",
   "execution_count": 21,
   "metadata": {},
   "outputs": [
    {
     "data": {
      "text/plain": [
       "<matplotlib.legend.Legend at 0x535ac1070>"
      ]
     },
     "execution_count": 21,
     "metadata": {},
     "output_type": "execute_result"
    },
    {
     "data": {
      "image/png": "[encoded data removed]",
      "text/plain": [
       "<Figure size 432x288 with 1 Axes>"
      ]
     },
     "metadata": {
      "needs_background": "light"
     },
     "output_type": "display_data"
    }
   ],
   "source": [
    "# Visualizing the training and validation accuracies per epoch\n",
    "\n",
    "epochs = range(len(accuracy))\n",
    "\n",
    "plt.plot(epochs, accuracy, 'blue', label='Training accuracy')\n",
    "plt.plot(epochs, val_accuracy, 'red', label='Validation accuracy')\n",
    "plt.legend()"
   ]
  },
  {
   "cell_type": "code",
   "execution_count": 22,
   "metadata": {},
   "outputs": [
    {
     "data": {
      "text/plain": [
       "364694"
      ]
     },
     "execution_count": 22,
     "metadata": {},
     "output_type": "execute_result"
    }
   ],
   "source": [
    "gc.collect() "
   ]
  },
  {
   "cell_type": "code",
   "execution_count": 23,
   "metadata": {},
   "outputs": [],
   "source": [
    "# Load the saved model\n",
    "\n",
    "loaded_model = load_model('.../input/credNet.hd5', custom_objects={'focal_loss_fixed': focal_loss}) "
   ]
  },
  {
   "cell_type": "code",
   "execution_count": 24,
   "metadata": {},
   "outputs": [
    {
     "name": "stderr",
     "output_type": "stream",
     "text": [
      "2023-05-01 22:58:54.097244: I tensorflow/core/grappler/optimizers/custom_graph_optimizer_registry.cc:113] Plugin optimizer for device_type GPU is enabled.\n",
      "2023-05-01 22:58:54.297613: I tensorflow/core/grappler/optimizers/custom_graph_optimizer_registry.cc:113] Plugin optimizer for device_type GPU is enabled.\n",
      "2023-05-01 22:58:54.415653: I tensorflow/core/grappler/optimizers/custom_graph_optimizer_registry.cc:113] Plugin optimizer for device_type GPU is enabled.\n"
     ]
    }
   ],
   "source": [
    "# Make predictions on the test data\n",
    "\n",
    "test_preds = loaded_model.predict(X_test_scaled) "
   ]
  },
  {
   "cell_type": "code",
   "execution_count": 29,
   "metadata": {},
   "outputs": [
    {
     "name": "stdout",
     "output_type": "stream",
     "text": [
      "0 = 1060620\n",
      "1 = 233697\n"
     ]
    }
   ],
   "source": [
    "test_binary_preds = np.where(test_preds >= 0.5, 1, 0) \n",
    " \n",
    "a = 0\n",
    "b = 0\n",
    "\n",
    "length = len(test_binary_preds)\n",
    "for i in range(length):\n",
    "    if test_binary_preds[i]==0:\n",
    "        a = a+1\n",
    "    else:\n",
    "        b = b+1\n",
    "\n",
    "print(\"0 =\", a)\n",
    "print(\"1 =\", b) "
   ]
  },
  {
   "cell_type": "code",
   "execution_count": 26,
   "metadata": {},
   "outputs": [
    {
     "name": "stdout",
     "output_type": "stream",
     "text": [
      "target\n",
      "0.0       904472\n",
      "1.0       389845\n",
      "dtype: int64\n"
     ]
    }
   ],
   "source": [
    "print(y_test.value_counts()) "
   ]
  },
  {
   "cell_type": "code",
   "execution_count": 34,
   "metadata": {},
   "outputs": [
    {
     "name": "stdout",
     "output_type": "stream",
     "text": [
      "              precision    recall  f1-score   support\n",
      "\n",
      "         0.0       0.83      0.97      0.89    904472\n",
      "         1.0       0.89      0.53      0.67    389845\n",
      "\n",
      "    accuracy                           0.84   1294317\n",
      "   macro avg       0.86      0.75      0.78   1294317\n",
      "weighted avg       0.85      0.84      0.83   1294317\n",
      "\n"
     ]
    }
   ],
   "source": [
    "# Generate the classification report\n",
    "\n",
    "report = classification_report(y_test, test_binary_preds)\n",
    "print(report) "
   ]
  },
  {
   "cell_type": "code",
   "execution_count": 35,
   "metadata": {},
   "outputs": [
    {
     "data": {
      "text/plain": [
       "<AxesSubplot:>"
      ]
     },
     "execution_count": 35,
     "metadata": {},
     "output_type": "execute_result"
    },
    {
     "data": {
      "image/png": "[encoded data removed]",
      "text/plain": [
       "<Figure size 432x288 with 2 Axes>"
      ]
     },
     "metadata": {
      "needs_background": "light"
     },
     "output_type": "display_data"
    }
   ],
   "source": [
    "# Generate the confusion matrix\n",
    "\n",
    "CM = confusion_matrix(y_test, test_binary_preds)\n",
    "sns.heatmap(CM, annot=True) "
   ]
  },
  {
   "cell_type": "code",
   "execution_count": null,
   "metadata": {},
   "outputs": [],
   "source": []
  }
 ],
 "metadata": {
  "kernelspec": {
   "display_name": "env_tf",
   "language": "python",
   "name": "python3"
  },
  "language_info": {
   "codemirror_mode": {
    "name": "ipython",
    "version": 3
   },
   "file_extension": ".py",
   "mimetype": "text/x-python",
   "name": "python",
   "nbconvert_exporter": "python",
   "pygments_lexer": "ipython3",
   "version": "3.9.12"
  },
  "orig_nbformat": 4,
  "vscode": {
   "interpreter": {
    "hash": "aef04443c4a0b81d2725fdc26acb1e8db2d914feff87a6a1c6219a0def239d7e"
   }
  }
 },
 "nbformat": 4,
 "nbformat_minor": 2
}
